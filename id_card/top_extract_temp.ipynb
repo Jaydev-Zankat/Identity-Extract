{
 "cells": [
  {
   "cell_type": "code",
   "execution_count": 63,
   "metadata": {},
   "outputs": [],
   "source": [
    "import boto3\n",
    "from trp import Document\n",
    "import cv2\n",
    "\n",
    "from googletrans import Translator, constants\n",
    "translator = Translator()"
   ]
  },
  {
   "cell_type": "code",
   "execution_count": 64,
   "metadata": {},
   "outputs": [],
   "source": [
    "card_identification = {'republic of croatia' : {'country':'Croatia',\n",
    "                                            'Types_of_card':['identity','driving licence']},\n",
    "                    'belgium' : {'country':'Belgium',\n",
    "                                            'Types_of_card':['identity','driving licence']},\n",
    "                    'french nationality' : {'country':'France',\n",
    "                                            'Types_of_card':['identity','driving licence']},\n",
    "                    'federal republic of germany' : {'country':'Germany',\n",
    "                                            'Types_of_card':['identity','driving licence']},\n",
    "                    'espana' : {'country':'Spain',\n",
    "                                            'Types_of_card':['identity','driving licence']},\n",
    "                    'republic of poland' : {'country':'Poland',\n",
    "                                            'Types_of_card':['identity','driving licence']},\n",
    "                    'romania' : {'country':'Romania',\n",
    "                                            'Types_of_card':['identity','driving licence']},\n",
    "                    'republic of slovenia' : {'country':'Slovenia',\n",
    "                                            'Types_of_card':['identity','driving licence']},\n",
    "                    'turkey republic card card' : {'country':'Turkey',\n",
    "                                            'Types_of_card':['identity','driving licence']}}"
   ]
  },
  {
   "cell_type": "code",
   "execution_count": 65,
   "metadata": {},
   "outputs": [],
   "source": [
    "# S3 Bucket Data\n",
    "def extract_top(file_path,s3BucketName):\n",
    "    # s3BucketName = \"kshatra-ai-jaydev\"\n",
    "    # file_path = \"./id_card_imgs/croatia3.jpeg\"\n",
    "    img = cv2.imread(file_path)\n",
    "    img = cv2.resize(img, (1260, 820))\n",
    "    list = file_path.split('/')\n",
    "    cv2.imwrite(file_path, img)\n",
    "    file_name = list[-1]\n",
    "\n",
    "\n",
    "    s3 = boto3.client('s3')\n",
    "    s3.upload_file(file_path ,s3BucketName, file_name)\n",
    "    print(\".....DONE -UPLOADING.......\")\n",
    "    FormdocumentName = file_name\n",
    "    PlaindocumentName = file_name\n",
    "    # Amazon Textract client\n",
    "    textractmodule = boto3.client('textract')\n",
    "    top_list = []\n",
    "    #1. PLAINTEXT detection from documents:\n",
    "    response = textractmodule.detect_document_text(Document={'S3Object': {'Bucket': s3BucketName,'Name': PlaindocumentName}})\n",
    "\n",
    "    print ('------------- Print Plaintext detected text ------------------------------')\n",
    "    i = 0\n",
    "    for item in response[\"Blocks\"]:\n",
    "        if item[\"BlockType\"] == \"LINE\":\n",
    "            i = i+1\n",
    "            if i < 10:\n",
    "                #print ('\\033[92m'+str(item['Text'])+'\\033[92m')\n",
    "                key = translator.translate(str(item['Text']))\n",
    "                ket_txt = key.text.lower()\n",
    "                top_list.append(ket_txt)\n",
    "                print(top_list)           \n",
    "    return top_list"
   ]
  },
  {
   "cell_type": "code",
   "execution_count": 66,
   "metadata": {},
   "outputs": [],
   "source": [
    "def identify_country(card_identification,file_path,s3BucketName):\n",
    "    top_list = extract_top(file_path,s3BucketName)\n",
    "    for a in range (len(top_list)):\n",
    "        if top_list[a] in card_identification:\n",
    "            cntry =  card_identification[top_list[a]]['country']\n",
    "            types_of_card =  card_identification[top_list[a]]['Types_of_card']\n",
    "            # print(\"Country is\", cntry)\n",
    "            break\n",
    "          \n",
    "    return cntry, types_of_card, top_list       \n",
    "    # print(\"Country does not exist in dict.\")\n",
    "\n",
    "\n",
    "\n",
    "def identify_card(card_identification, file_path,s3BucketName):\n",
    "    country, card_types, top_list= identify_country(card_identification, file_path, s3BucketName)\n",
    "    # print(card_types)\n",
    "    \n",
    "    for c in range (len(top_list)):\n",
    "        for b in range(len(card_types)):\n",
    "            if top_list[c].find(str(card_types[b])) != -1:\n",
    "                # print(card_types[b])\n",
    "                card = card_types[b]\n",
    "            break \n",
    "    return country,card \n",
    "    # print(\"Card of card does not exist in dict.\")\n",
    "\n"
   ]
  },
  {
   "cell_type": "code",
   "execution_count": 67,
   "metadata": {},
   "outputs": [
    {
     "name": "stdout",
     "output_type": "stream",
     "text": [
      ".....DONE -UPLOADING.......\n",
      "------------- Print Plaintext detected text ------------------------------\n",
      "['belgium']\n",
      "['belgium', 'belgium']\n",
      "['belgium', 'belgium', 'belgium']\n",
      "['belgium', 'belgium', 'belgium', 'belgium']\n",
      "['belgium', 'belgium', 'belgium', 'belgium', \"id card carte d'aldigen identitiekaart\"]\n",
      "['belgium', 'belgium', 'belgium', 'belgium', \"id card carte d'aldigen identitiekaart\", 'identity card']\n",
      "['belgium', 'belgium', 'belgium', 'belgium', \"id card carte d'aldigen identitiekaart\", 'identity card', 'be']\n",
      "['belgium', 'belgium', 'belgium', 'belgium', \"id card carte d'aldigen identitiekaart\", 'identity card', 'be', 'name/name']\n",
      "['belgium', 'belgium', 'belgium', 'belgium', \"id card carte d'aldigen identitiekaart\", 'identity card', 'be', 'name/name', 'specimen']\n"
     ]
    },
    {
     "data": {
      "text/plain": [
       "('Belgium', 'identity')"
      ]
     },
     "execution_count": 67,
     "metadata": {},
     "output_type": "execute_result"
    }
   ],
   "source": [
    "identify_card(card_identification, file_path = \"./id_card_imgs/belgium1.png\", s3BucketName = \"kshatra-ai-jaydev\")"
   ]
  },
  {
   "cell_type": "code",
   "execution_count": null,
   "metadata": {},
   "outputs": [],
   "source": []
  },
  {
   "cell_type": "code",
   "execution_count": null,
   "metadata": {},
   "outputs": [],
   "source": []
  },
  {
   "cell_type": "code",
   "execution_count": null,
   "metadata": {},
   "outputs": [],
   "source": []
  },
  {
   "cell_type": "code",
   "execution_count": null,
   "metadata": {},
   "outputs": [],
   "source": []
  },
  {
   "cell_type": "code",
   "execution_count": null,
   "metadata": {},
   "outputs": [],
   "source": []
  },
  {
   "cell_type": "code",
   "execution_count": null,
   "metadata": {},
   "outputs": [],
   "source": []
  },
  {
   "cell_type": "code",
   "execution_count": null,
   "metadata": {},
   "outputs": [],
   "source": []
  },
  {
   "cell_type": "code",
   "execution_count": null,
   "metadata": {},
   "outputs": [],
   "source": []
  },
  {
   "cell_type": "code",
   "execution_count": null,
   "metadata": {},
   "outputs": [],
   "source": []
  },
  {
   "cell_type": "code",
   "execution_count": null,
   "metadata": {},
   "outputs": [],
   "source": [
    "########for admin\n",
    "##first he will do whole ocr of document and get first 10 values.\n",
    "## get the string that contain or identify country name.\n",
    "list_of_card = []\n",
    "card_identification.add(string, {'country':country_name, Types_of_card:list_of_card.append(Type_of_card))"
   ]
  },
  {
   "cell_type": "code",
   "execution_count": null,
   "metadata": {},
   "outputs": [],
   "source": []
  },
  {
   "cell_type": "code",
   "execution_count": null,
   "metadata": {},
   "outputs": [],
   "source": []
  },
  {
   "cell_type": "code",
   "execution_count": null,
   "metadata": {},
   "outputs": [],
   "source": []
  },
  {
   "cell_type": "code",
   "execution_count": 74,
   "metadata": {},
   "outputs": [],
   "source": [
    "key = translator.translate(\"PRIMER APELLIDO\")"
   ]
  },
  {
   "cell_type": "code",
   "execution_count": 75,
   "metadata": {},
   "outputs": [
    {
     "name": "stdout",
     "output_type": "stream",
     "text": [
      "Translated(src=es, dest=en, text=SURNAME, pronunciation=None, extra_data=\"{'confiden...\")\n"
     ]
    }
   ],
   "source": [
    "print(key)"
   ]
  },
  {
   "cell_type": "code",
   "execution_count": null,
   "metadata": {},
   "outputs": [],
   "source": []
  }
 ],
 "metadata": {
  "kernelspec": {
   "display_name": "Python 3.10.4 ('kenv')",
   "language": "python",
   "name": "python3"
  },
  "language_info": {
   "codemirror_mode": {
    "name": "ipython",
    "version": 3
   },
   "file_extension": ".py",
   "mimetype": "text/x-python",
   "name": "python",
   "nbconvert_exporter": "python",
   "pygments_lexer": "ipython3",
   "version": "3.10.4"
  },
  "orig_nbformat": 4,
  "vscode": {
   "interpreter": {
    "hash": "675f33c4e9571de98fc6278933ab6a04fc7353f622fb2afd99ecefe31f8e8f1c"
   }
  }
 },
 "nbformat": 4,
 "nbformat_minor": 2
}
