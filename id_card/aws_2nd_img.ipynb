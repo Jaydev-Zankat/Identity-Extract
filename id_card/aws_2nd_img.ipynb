{
 "cells": [
  {
   "cell_type": "code",
   "execution_count": 14,
   "metadata": {},
   "outputs": [],
   "source": [
    "main_dict ={'BUNDESREPUBLIK': {'cordinates': [40, 27, 435, 61], 'id': ''},\n",
    " 'DEUTSCHLAND': {'cordinates': [450, 29, 760, 64], 'id': ''},\n",
    " 'FEDERAL': {'cordinates': [51, 59, 140, 79], 'id': ''},\n",
    " 'REPUBLIC': {'cordinates': [142, 59, 240, 78], 'id': ''},\n",
    " 'OF': {'cordinates': [244, 60, 273, 78], 'id': ''},\n",
    " 'GERMANY': {'cordinates': [277, 60, 376, 80], 'id': ''},\n",
    " '/': {'cordinates': [198, 113, 210, 132], 'id': ''},\n",
    " 'REPUBLIQUE': {'cordinates': [394, 60, 519, 82], 'id': ''},\n",
    " 'FEDERALE': {'cordinates': [522, 62, 623, 83], 'id': ''},\n",
    " \"D'ALLEMAGNE\": {'cordinates': [626, 64, 763, 83], 'id': ''},\n",
    " 'LGL8WVK3F': {'cordinates': [894, 42, 1200, 86], 'id': 'Card_No.'},\n",
    " 'PERSONALAUSWEIS': {'cordinates': [45, 83, 353, 112], 'id': ''},\n",
    " 'IDENTITY': {'cordinates': [49, 114, 137, 132], 'id': ''},\n",
    " 'CARD': {'cordinates': [141, 113, 195, 132], 'id': ''},\n",
    " 'CARTE': {'cordinates': [213, 114, 278, 133], 'id': ''},\n",
    " \"D'IDENTITE\": {'cordinates': [280, 114, 388, 134], 'id': ''},\n",
    " 'Name/Surname/Nom': {'cordinates': [543, 108, 737, 128], 'id': ''},\n",
    " 'SCHULZ': {'cordinates': [551, 168, 696, 204], 'id': 'Holder_Surame'},\n",
    " 'Vornamen/Given': {'cordinates': [544, 245, 691, 264], 'id': ''},\n",
    " 'names/Prénoms': {'cordinates': [699, 246, 850, 265], 'id': ''},\n",
    " 'CARSTEN': {'cordinates': [549, 277, 721, 312], 'id': 'Holder_Name'},\n",
    " 'MARCUS': {'cordinates': [745, 278, 894, 314], 'id': 'Holder_Name'},\n",
    " 'GEROLD': {'cordinates': [918, 279, 1066, 315], 'id': 'Holder_Name'},\n",
    " 'Geburtstag/Date': {'cordinates': [544, 340, 694, 361], 'id': ''},\n",
    " 'of': {'cordinates': [631, 658, 651, 676], 'id': ''},\n",
    " 'birth/': {'cordinates': [721, 340, 771, 359], 'id': ''},\n",
    " 'Staatsangehörigkeit/Nationality': {'cordinates': [823, 342, 1119, 365],\n",
    "  'id': ''},\n",
    " 'Date': {'cordinates': [539, 567, 583, 585], 'id': ''},\n",
    " 'de': {'cordinates': [825, 659, 850, 677], 'id': ''},\n",
    " 'naissance': {'cordinates': [844, 455, 938, 474], 'id': ''},\n",
    " 'Nationalité': {'cordinates': [821, 359, 921, 379], 'id': ''},\n",
    " '21.02.1992': {'cordinates': [548, 390, 792, 426], 'id': 'Holder_DOB'},\n",
    " 'DEUTSCH': {'cordinates': [829, 392, 1002, 428], 'id': 'Holder_Nationality'},\n",
    " 'Geburtsort/Place': {'cordinates': [540, 453, 696, 473], 'id': ''},\n",
    " 'birth/Lieu': {'cordinates': [723, 454, 812, 472], 'id': ''},\n",
    " 'SCHWEINFURT': {'cordinates': [549, 485, 815, 522], 'id': ''},\n",
    " 'Gültig': {'cordinates': [539, 549, 595, 571], 'id': ''},\n",
    " 'bis/Date': {'cordinates': [598, 549, 677, 569], 'id': ''},\n",
    " 'expiry/': {'cordinates': [703, 549, 767, 571], 'id': ''},\n",
    " 'd': {'cordinates': [587, 568, 602, 585], 'id': ''},\n",
    " 'expiration': {'cordinates': [604, 567, 696, 588], 'id': ''},\n",
    " '599350': {'cordinates': [937, 563, 1157, 611], 'id': ''},\n",
    " '13.04.2020': {'cordinates': [548, 593, 789, 631], 'id': ''},\n",
    " 'Unterschrift': {'cordinates': [537, 640, 646, 658], 'id': ''},\n",
    " 'der': {'cordinates': [648, 641, 681, 659], 'id': ''},\n",
    " 'Inhaberin/des': {'cordinates': [684, 640, 811, 659], 'id': ''},\n",
    " 'Inhabers': {'cordinates': [815, 641, 898, 660], 'id': ''},\n",
    " 'Signature': {'cordinates': [731, 657, 822, 680], 'id': ''},\n",
    " 'bearer': {'cordinates': [653, 659, 718, 677], 'id': ''},\n",
    " '-': {'cordinates': [719, 665, 727, 672], 'id': ''},\n",
    " 'la': {'cordinates': [853, 659, 872, 677], 'id': ''},\n",
    " 'titulaire/du': {'cordinates': [875, 658, 978, 678], 'id': ''},\n",
    " 'titulaire': {'cordinates': [980, 657, 1050, 677], 'id': ''},\n",
    " 'Schulz': {'cordinates': [535, 693, 872, 788], 'id': ''},\n",
    " 'Carsten': {'cordinates': [919, 714, 1197, 797], 'id': ''}}"
   ]
  },
  {
   "cell_type": "code",
   "execution_count": null,
   "metadata": {},
   "outputs": [],
   "source": []
  },
  {
   "cell_type": "code",
   "execution_count": 18,
   "metadata": {},
   "outputs": [],
   "source": [
    "import boto3\n",
    "from trp import Document\n",
    "import cv2\n",
    "country_dict = {} "
   ]
  },
  {
   "cell_type": "code",
   "execution_count": 19,
   "metadata": {},
   "outputs": [],
   "source": [
    "# S3 Bucket Data\n",
    "s3BucketName = \"kshatra-ai-jaydev\"\n",
    "\n",
    "file_path = \"/home/ubuntu/kshatra/OCR/id_card/id_card_imgs/german3.jpg\"\n",
    "snd_img = cv2.imread(file_path)\n",
    "snd_img = cv2.resize(snd_img, (1260, 820))\n",
    "list = file_path.split('/')\n",
    "cv2.imwrite(file_path, snd_img)\n",
    "file_name = list[-1]"
   ]
  },
  {
   "cell_type": "code",
   "execution_count": 20,
   "metadata": {},
   "outputs": [
    {
     "name": "stdout",
     "output_type": "stream",
     "text": [
      ".....DONE -UPLOADING.......\n"
     ]
    }
   ],
   "source": [
    "s3 = boto3.client('s3')\n",
    "s3.upload_file(file_path ,s3BucketName, file_name)\n",
    "\n",
    "print(\".....DONE -UPLOADING.......\")\n",
    "\n",
    "\n",
    "FormdocumentName = file_name\n",
    "PlaindocumentName = file_name\n",
    "\n",
    "# Amazon Textract client\n",
    "textractmodule = boto3.client('textract')"
   ]
  },
  {
   "cell_type": "code",
   "execution_count": 25,
   "metadata": {},
   "outputs": [],
   "source": [
    "ocr_dict ={}\n",
    "\n",
    "img = cv2.imread(file_path)\n",
    "\n",
    "#1. PLAINTEXT detection from documents:\n",
    "response = textractmodule.detect_document_text(\n",
    "    Document={\n",
    "        'S3Object': {\n",
    "            'Bucket': s3BucketName,\n",
    "            'Name': PlaindocumentName\n",
    "        }\n",
    "    })\n",
    "    \n",
    "for item in response[\"Blocks\"]:\n",
    "    cord_dict={}\n",
    "    if item[\"BlockType\"] == \"WORD\":\n",
    "        cordinate_list = []\n",
    "        ocr_detection = (str(item['Text']))\n",
    "        \n",
    "        # ocr_list.append(str(item['Text']))\n",
    "        x1 = item['Geometry']['BoundingBox']['Left']\n",
    "        y1 = item['Geometry']['BoundingBox']['Top']\n",
    "        w = item['Geometry']['BoundingBox']['Width']\n",
    "        h = item['Geometry']['BoundingBox']['Height']\n",
    "        #print((x1,y1),(x1+w,y1+h))\n",
    "        x1_img = int(x1*1260)\n",
    "        y1_img = int(y1*820)\n",
    "        x2_img = int((x1+w)*1260)\n",
    "        y2_img = int((y1+h)*820)\n",
    "        cordinate_list.append(x1_img)\n",
    "        cordinate_list.append(y1_img)\n",
    "        cordinate_list.append(x2_img)\n",
    "        cordinate_list.append(y2_img)\n",
    "        image = cv2.rectangle(img, (x1_img, y1_img), (x2_img, y2_img), (255,0,0), 2)\n",
    "        #image = cv2.rectangle(img, (x1_img-30, y1_img-30), (x1_img+30, y1_img+30), (0,255,0), 3)\n",
    "        cord_dict['cordinates'] = cordinate_list\n",
    "        ocr_dict[ocr_detection] = cord_dict\n",
    "        #out_path = \"./output_img/\" + file_name\n",
    "        \n",
    "        #cv2.imwrite(out_path, image)\n",
    "\n"
   ]
  },
  {
   "cell_type": "code",
   "execution_count": 26,
   "metadata": {},
   "outputs": [
    {
     "data": {
      "text/plain": [
       "{'BUNDESREPUBLIK': {'cordinates': [55, 63, 449, 94]},\n",
       " 'DEUTSCHLAND': {'cordinates': [463, 65, 795, 95]},\n",
       " 'FEDERAL': {'cordinates': [56, 93, 148, 110]},\n",
       " 'REPUBLIC': {'cordinates': [149, 94, 249, 110]},\n",
       " 'OF': {'cordinates': [252, 95, 280, 110]},\n",
       " 'GERMANYIREPUBLIQUE': {'cordinates': [284, 94, 524, 112]},\n",
       " 'FEDERALE': {'cordinates': [526, 96, 630, 112]},\n",
       " \"D'ALLEMAGNE\": {'cordinates': [635, 97, 777, 113]},\n",
       " 'T52400179': {'cordinates': [891, 80, 1217, 122]},\n",
       " 'PERSONALAUSWEIS': {'cordinates': [50, 123, 351, 148]},\n",
       " 'Name/Surname/Nom': {'cordinates': [573, 137, 785, 156]},\n",
       " 'IDENTITY': {'cordinates': [54, 151, 144, 167]},\n",
       " 'CARD': {'cordinates': [146, 152, 203, 167]},\n",
       " '/': {'cordinates': [206, 152, 214, 167]},\n",
       " 'CARTE': {'cordinates': [217, 152, 284, 168]},\n",
       " \"D'IDENTITE\": {'cordinates': [288, 152, 396, 169]},\n",
       " 'PASSPORTICA': {'cordinates': [572, 197, 845, 239]},\n",
       " 'INC': {'cordinates': [857, 197, 921, 240]},\n",
       " 'Vornamen/Given': {'cordinates': [574, 275, 743, 294]},\n",
       " 'names/Prenoms': {'cordinates': [752, 276, 922, 295]},\n",
       " 'PASSPORTICA.CO': {'cordinates': [573, 300, 923, 345]},\n",
       " 'Geburtstag/Date': {'cordinates': [573, 373, 745, 394]},\n",
       " 'of': {'cordinates': [675, 696, 699, 714]},\n",
       " 'birth/': {'cordinates': [776, 373, 834, 391]},\n",
       " 'Staatsangehorigkeit/Nationality/': {'cordinates': [857, 374, 1194, 397]},\n",
       " 'Date': {'cordinates': [568, 606, 617, 623]},\n",
       " 'de': {'cordinates': [898, 698, 927, 716]},\n",
       " 'naissance': {'cordinates': [919, 490, 1029, 509]},\n",
       " 'Nationalite': {'cordinates': [853, 392, 969, 411]},\n",
       " '08.': {'cordinates': [572, 418, 627, 456]},\n",
       " '04.1973': {'cordinates': [650, 417, 825, 457]},\n",
       " 'DEUTSCH': {'cordinates': [859, 418, 1043, 459]},\n",
       " 'Geburtsort/Place': {'cordinates': [569, 488, 748, 508]},\n",
       " 'birth/Lieu': {'cordinates': [781, 490, 882, 508]},\n",
       " 'HAMBURG': {'cordinates': [572, 519, 744, 554]},\n",
       " 'Gultig': {'cordinates': [568, 586, 633, 608]},\n",
       " 'bis/Date': {'cordinates': [638, 585, 726, 606]},\n",
       " 'expiry/': {'cordinates': [758, 587, 832, 609]},\n",
       " \"d'\": {'cordinates': [622, 605, 641, 623]},\n",
       " 'expiration': {'cordinates': [640, 605, 749, 627]},\n",
       " '13.08.2029': {'cordinates': [570, 625, 832, 666]},\n",
       " '962507': {'cordinates': [969, 612, 1176, 659]},\n",
       " 'Unterschrift': {'cordinates': [567, 676, 696, 696]},\n",
       " 'der': {'cordinates': [699, 677, 736, 696]},\n",
       " 'Inhaberin/des': {'cordinates': [740, 677, 885, 697]},\n",
       " 'Inhaberes': {'cordinates': [890, 678, 998, 698]},\n",
       " '-': {'cordinates': [777, 705, 787, 711]},\n",
       " 'Signature': {'cordinates': [790, 697, 894, 719]},\n",
       " 'bearer': {'cordinates': [703, 697, 773, 715]},\n",
       " 'la': {'cordinates': [931, 698, 952, 716]},\n",
       " 'titulaire/du': {'cordinates': [955, 698, 1072, 716]},\n",
       " 'titulaire': {'cordinates': [1076, 698, 1160, 717]},\n",
       " 'Inc': {'cordinates': [1007, 718, 1176, 794]}}"
      ]
     },
     "execution_count": 26,
     "metadata": {},
     "output_type": "execute_result"
    }
   ],
   "source": [
    "ocr_dict"
   ]
  },
  {
   "cell_type": "code",
   "execution_count": null,
   "metadata": {},
   "outputs": [],
   "source": []
  },
  {
   "cell_type": "code",
   "execution_count": 64,
   "metadata": {},
   "outputs": [],
   "source": [
    "id_list = [\"Card_No\", \"Holder_Surame\", \"Holder_DOB\", \"Holder_Nationality\" , \"Holder_Name\"]\n",
    "output_list = []"
   ]
  },
  {
   "cell_type": "code",
   "execution_count": 65,
   "metadata": {},
   "outputs": [
    {
     "name": "stdout",
     "output_type": "stream",
     "text": [
      "Holder_Surame\n",
      "Holder_DOB\n",
      "Holder_Nationality\n",
      "Holder_Name\n",
      "Holder_Name\n",
      "Holder_Name\n"
     ]
    }
   ],
   "source": [
    "##for holder name\n",
    "for i in range(0,len(id_list)):\n",
    "    for key, values in main_dict.items():\n",
    "        #print(key)\n",
    "        if main_dict[key]['id'] == id_list[i]:\n",
    "            x1 = main_dict[key]['cordinates'][0]\n",
    "            y1 = main_dict[key]['cordinates'][1]\n",
    "            print(id_list[i])\n",
    "            #print(x1,y1)\n",
    "        else:\n",
    "            pass\n",
    "\n",
    "    for key2, values2 in ocr_dict.items():\n",
    "        if ocr_dict[key2]['cordinates'][0] < (x1+30) and ocr_dict[key2]['cordinates'][0] > (x1-30):\n",
    "            if ocr_dict[key2]['cordinates'][1] < (y1+20) and ocr_dict[key2]['cordinates'][1] > (y1-20):\n",
    "                output_list.append(key2)\n",
    "                # print(key2)\n",
    "            else:\n",
    "                pass\n",
    "        else:\n",
    "            pass"
   ]
  },
  {
   "cell_type": "code",
   "execution_count": 60,
   "metadata": {},
   "outputs": [
    {
     "data": {
      "text/plain": [
       "['Staatsangehorigkeit/Nationality/',\n",
       " 'Nationalite',\n",
       " 'Geburtstag/Date',\n",
       " 'Staatsangehorigkeit/Nationality/',\n",
       " 'Nationalite']"
      ]
     },
     "execution_count": 60,
     "metadata": {},
     "output_type": "execute_result"
    }
   ],
   "source": [
    "output_list"
   ]
  },
  {
   "cell_type": "code",
   "execution_count": 35,
   "metadata": {},
   "outputs": [
    {
     "name": "stdout",
     "output_type": "stream",
     "text": [
      "BUNDESREPUBLIK\n",
      "DEUTSCHLAND\n",
      "FEDERAL\n",
      "REPUBLIC\n",
      "OF\n",
      "GERMANYIREPUBLIQUE\n",
      "FEDERALE\n",
      "D'ALLEMAGNE\n",
      "T52400179\n",
      "PERSONALAUSWEIS\n",
      "Name/Surname/Nom\n",
      "IDENTITY\n",
      "CARD\n",
      "/\n",
      "CARTE\n",
      "D'IDENTITE\n",
      "PASSPORTICA\n",
      "INC\n",
      "Vornamen/Given\n",
      "names/Prenoms\n",
      "PASSPORTICA.CO\n",
      "Geburtstag/Date\n",
      "of\n",
      "birth/\n",
      "Staatsangehorigkeit/Nationality/\n",
      "Date\n",
      "de\n",
      "naissance\n",
      "Nationalite\n",
      "08.\n",
      "04.1973\n",
      "DEUTSCH\n",
      "Geburtsort/Place\n",
      "birth/Lieu\n",
      "HAMBURG\n",
      "Gultig\n",
      "bis/Date\n",
      "expiry/\n",
      "d'\n",
      "expiration\n",
      "13.08.2029\n",
      "962507\n",
      "Unterschrift\n",
      "der\n",
      "Inhaberin/des\n",
      "Inhaberes\n",
      "-\n",
      "Signature\n",
      "bearer\n",
      "la\n",
      "titulaire/du\n",
      "titulaire\n",
      "Inc\n"
     ]
    }
   ],
   "source": [
    "for key3, values3 in ocr_dict.items():\n",
    "    print(key3)"
   ]
  },
  {
   "cell_type": "code",
   "execution_count": null,
   "metadata": {},
   "outputs": [],
   "source": []
  }
 ],
 "metadata": {
  "kernelspec": {
   "display_name": "Python 3.10.4 ('kenv')",
   "language": "python",
   "name": "python3"
  },
  "language_info": {
   "codemirror_mode": {
    "name": "ipython",
    "version": 3
   },
   "file_extension": ".py",
   "mimetype": "text/x-python",
   "name": "python",
   "nbconvert_exporter": "python",
   "pygments_lexer": "ipython3",
   "version": "3.10.4"
  },
  "orig_nbformat": 4,
  "vscode": {
   "interpreter": {
    "hash": "675f33c4e9571de98fc6278933ab6a04fc7353f622fb2afd99ecefe31f8e8f1c"
   }
  }
 },
 "nbformat": 4,
 "nbformat_minor": 2
}
