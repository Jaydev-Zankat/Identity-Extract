{
 "cells": [
  {
   "cell_type": "code",
   "execution_count": 2,
   "metadata": {},
   "outputs": [],
   "source": [
    "import boto3\n",
    "from trp import Document\n",
    "import cv2\n",
    "country_dict = {} "
   ]
  },
  {
   "cell_type": "code",
   "execution_count": 16,
   "metadata": {},
   "outputs": [],
   "source": [
    "# S3 Bucket Data\n",
    "s3BucketName = \"kshatra-ai-jaydev\"\n",
    "\n",
    "file_path = \"./../id_card_imgs/bulgaria1.jpg\"\n",
    "img = cv2.imread(file_path)\n",
    "img = cv2.resize(img, (1260, 820))\n",
    "list = file_path.split('/')\n",
    "cv2.imwrite(file_path, img)\n",
    "file_name = list[-1]"
   ]
  },
  {
   "cell_type": "code",
   "execution_count": 17,
   "metadata": {},
   "outputs": [
    {
     "name": "stdout",
     "output_type": "stream",
     "text": [
      ".....DONE -UPLOADING.......\n"
     ]
    }
   ],
   "source": [
    "s3 = boto3.client('s3')\n",
    "s3.upload_file(file_path ,s3BucketName, file_name)\n",
    "\n",
    "print(\".....DONE -UPLOADING.......\")\n",
    "\n",
    "\n",
    "FormdocumentName = file_name\n",
    "PlaindocumentName = file_name\n",
    "\n",
    "# Amazon Textract client\n",
    "textractmodule = boto3.client('textract')"
   ]
  },
  {
   "cell_type": "code",
   "execution_count": 18,
   "metadata": {},
   "outputs": [],
   "source": [
    "from googletrans import Translator, constants\n",
    "translator = Translator()"
   ]
  },
  {
   "cell_type": "code",
   "execution_count": 19,
   "metadata": {},
   "outputs": [
    {
     "name": "stdout",
     "output_type": "stream",
     "text": [
      "------------- Print Form detected text ------------------------------\n",
      "Key: Number, Value: 1001001001\n",
      "Key: not / six, Value: XIF\n",
      "Key: Babughat/Valid until, Value: 01.04.2018\n",
      "Key: Nonnwc/Signature, Value: None\n",
      "Key: Bmp of permit, Value: npe6MBaBaHe term residence\n"
     ]
    }
   ],
   "source": [
    "FormdocumentName = file_name\n",
    "key_list =[]\n",
    "ocr_form_dict = {}\n",
    "\n",
    "# #2. FORM detection from documents:\n",
    "response = textractmodule.analyze_document(\n",
    "    Document={\n",
    "        'S3Object': {\n",
    "            'Bucket': s3BucketName,\n",
    "            'Name': FormdocumentName\n",
    "        }\n",
    "    },\n",
    "    FeatureTypes=[\"FORMS\"])\n",
    "doc = Document(response)\n",
    "\n",
    "print ('------------- Print Form detected text ------------------------------')\n",
    "for page in doc.pages:\n",
    "    for field in page.form.fields:\n",
    "        key = translator.translate(str(field.key))\n",
    "        #value = translator.translate(str(field.value))\n",
    "        #print(key)\n",
    "        key_list = key.text.split(' ')\n",
    "        #print(key_list)\n",
    "        print(\"Key: {}, Value: {}\".format(key.text, field.value))\n",
    "\n",
    "        \n"
   ]
  },
  {
   "cell_type": "code",
   "execution_count": null,
   "metadata": {},
   "outputs": [],
   "source": []
  },
  {
   "cell_type": "code",
   "execution_count": 21,
   "metadata": {},
   "outputs": [
    {
     "name": "stdout",
     "output_type": "stream",
     "text": [
      "------------- Print Plaintext detected text ------------------------------\n",
      "['ebponeackm cblo3', 'european union', 'sizing', 'bgr', 'republic of bulgaria', 'coptic', 'residence card', 'haeh ha cemericiboto ha cmo3a', 'of a family member of a union citizen', 'maphoba mapmu paqheba', 'ivanova maritza radneva', 'number 1001001001', '-', 'not / six xif', 'bmp of permit', 'npe6mbabahe', 'long term residence', 'babughat/valid until', '01.04.2018', 'ne ha nowymehtaldocument number', '873000000', 'm', 'h', 'thet', 'nonnwc/signature', 'a']\n"
     ]
    }
   ],
   "source": [
    "list =[]\n",
    "#1. PLAINTEXT detection from documents:\n",
    "response = textractmodule.detect_document_text(\n",
    "    Document={\n",
    "        'S3Object': {\n",
    "            'Bucket': s3BucketName,\n",
    "            'Name': PlaindocumentName\n",
    "        }\n",
    "    })\n",
    "print ('------------- Print Plaintext detected text ------------------------------')\n",
    "for item in response[\"Blocks\"]:\n",
    "    if item[\"BlockType\"] == \"LINE\":\n",
    "        abc = str(item['Text'])\n",
    "        key = translator.translate(abc)\n",
    "        ket_txt = key.text.lower()\n",
    "        list.append(ket_txt)\n",
    "\n",
    "print(list)"
   ]
  },
  {
   "cell_type": "code",
   "execution_count": 20,
   "metadata": {},
   "outputs": [],
   "source": [
    "list_1 = ['REPUBLIKA HRVATSKA', 'OSOBNA ISKAZNICA', 'REPUBLIC OF CROATIA', 'IDENTITY CARD', 'Prezime/Surname', 'KUFRIN', 'Ime/Name', '100128215', 'Spol/Sex', 'M/M', 'Broj osobne iskaznice', 'Drzavijanstvo', 'HRV', 'Identity card number', 'Citizenship', 'Datum rodenja', '01.05.1970', 'Potpis/Signature', 'Date of birth', 'Vrijedi do', 'Marjo Basil', 'Date of expiry', '05.02.2013']"
   ]
  },
  {
   "cell_type": "code",
   "execution_count": 21,
   "metadata": {},
   "outputs": [],
   "source": [
    "list_2 = ['REPUBLIKA HRVATSKA', 'OSOBNA ISKAZNICA', 'REPUBLIC OF CROATIA', 'IDENTITY CARD', 'SPECIMEN', 'SPECIMEN', '000000000', 'tipot', 'F/2', 'HRV', '- by number', '- al', '01.01.1977', 'Govinen grown', '-', '12.12.2002']"
   ]
  },
  {
   "cell_type": "code",
   "execution_count": 22,
   "metadata": {},
   "outputs": [],
   "source": [
    "list_3 = ['RH', 'REPUBLIKA HRVATSKA', 'OSOBNA ISKAZNICA', 'REPUBLIC OF CROATIA', 'IDENTITY CARD', 'Prezime/Surname', 'UZORAK', 'Ime/Name', 'SPECIMEN', 'Spol/Sex', 'M/M', 'Broj osobne iskaznice', 'Drzavijanstvo', 'Identity card number', 'Citizenship', 'HRV', '123456789', 'Datum rodenja', 'Date of birth', '01.01.1977.', 'Vrijedi do', 'Potpis/Signature', 'Date of expiry', '01.06.2020.', 'Kk 50']"
   ]
  },
  {
   "cell_type": "code",
   "execution_count": null,
   "metadata": {},
   "outputs": [],
   "source": []
  },
  {
   "cell_type": "code",
   "execution_count": 39,
   "metadata": {},
   "outputs": [
    {
     "name": "stdout",
     "output_type": "stream",
     "text": [
      "{'BUNDESREPUBLIK': {'cordinates': [40, 27, 435, 61], 'id': ''}, 'DEUTSCHLAND': {'cordinates': [450, 29, 760, 64], 'id': ''}, 'FEDERAL': {'cordinates': [51, 59, 140, 79], 'id': ''}, 'REPUBLIC': {'cordinates': [142, 59, 240, 78], 'id': ''}, 'OF': {'cordinates': [244, 60, 273, 78], 'id': ''}, 'GERMANY': {'cordinates': [277, 60, 376, 80], 'id': ''}, '/': {'cordinates': [198, 113, 210, 132], 'id': ''}, 'REPUBLIQUE': {'cordinates': [394, 60, 519, 82], 'id': ''}, 'FEDERALE': {'cordinates': [522, 62, 623, 83], 'id': ''}, \"D'ALLEMAGNE\": {'cordinates': [626, 64, 763, 83], 'id': ''}, 'LGL8WVK3F': {'cordinates': [894, 42, 1200, 86], 'id': ''}, 'PERSONALAUSWEIS': {'cordinates': [45, 83, 353, 112], 'id': ''}, 'IDENTITY': {'cordinates': [49, 114, 137, 132], 'id': ''}, 'CARD': {'cordinates': [141, 113, 195, 132], 'id': ''}, 'CARTE': {'cordinates': [213, 114, 278, 133], 'id': ''}, \"D'IDENTITE\": {'cordinates': [280, 114, 388, 134], 'id': ''}, 'Name/Surname/Nom': {'cordinates': [543, 108, 737, 128], 'id': ''}, 'SCHULZ': {'cordinates': [551, 168, 696, 204], 'id': ''}, 'Vornamen/Given': {'cordinates': [544, 245, 691, 264], 'id': ''}, 'names/Prénoms': {'cordinates': [699, 246, 850, 265], 'id': ''}, 'CARSTEN': {'cordinates': [549, 277, 721, 312], 'id': ''}, 'MARCUS': {'cordinates': [745, 278, 894, 314], 'id': ''}, 'GEROLD': {'cordinates': [918, 279, 1066, 315], 'id': ''}, 'Geburtstag/Date': {'cordinates': [544, 340, 694, 361], 'id': ''}, 'of': {'cordinates': [631, 658, 651, 676], 'id': ''}, 'birth/': {'cordinates': [721, 340, 771, 359], 'id': ''}, 'Staatsangehörigkeit/Nationality': {'cordinates': [823, 342, 1119, 365], 'id': ''}, 'Date': {'cordinates': [539, 567, 583, 585], 'id': ''}, 'de': {'cordinates': [825, 659, 850, 677], 'id': ''}, 'naissance': {'cordinates': [844, 455, 938, 474], 'id': ''}, 'Nationalité': {'cordinates': [821, 359, 921, 379], 'id': ''}, '21.02.1992': {'cordinates': [548, 390, 792, 426], 'id': ''}, 'DEUTSCH': {'cordinates': [829, 392, 1002, 428], 'id': ''}, 'Geburtsort/Place': {'cordinates': [540, 453, 696, 473], 'id': ''}, 'birth/Lieu': {'cordinates': [723, 454, 812, 472], 'id': ''}, 'SCHWEINFURT': {'cordinates': [549, 485, 815, 522], 'id': ''}, 'Gültig': {'cordinates': [539, 549, 595, 571], 'id': ''}, 'bis/Date': {'cordinates': [598, 549, 677, 569], 'id': ''}, 'expiry/': {'cordinates': [703, 549, 767, 571], 'id': ''}, 'd': {'cordinates': [587, 568, 602, 585], 'id': ''}, 'expiration': {'cordinates': [604, 567, 696, 588], 'id': ''}, '599350': {'cordinates': [937, 563, 1157, 611], 'id': ''}, '13.04.2020': {'cordinates': [548, 593, 789, 631], 'id': ''}, 'Unterschrift': {'cordinates': [537, 640, 646, 658], 'id': ''}, 'der': {'cordinates': [648, 641, 681, 659], 'id': ''}, 'Inhaberin/des': {'cordinates': [684, 640, 811, 659], 'id': ''}, 'Inhabers': {'cordinates': [815, 641, 898, 660], 'id': ''}, 'Signature': {'cordinates': [731, 657, 822, 680], 'id': ''}, 'bearer': {'cordinates': [653, 659, 718, 677], 'id': ''}, '-': {'cordinates': [719, 665, 727, 672], 'id': ''}, 'la': {'cordinates': [853, 659, 872, 677], 'id': ''}, 'titulaire/du': {'cordinates': [875, 658, 978, 678], 'id': ''}, 'titulaire': {'cordinates': [980, 657, 1050, 677], 'id': ''}, 'Schulz': {'cordinates': [535, 693, 872, 788], 'id': ''}, 'Carsten': {'cordinates': [919, 714, 1197, 797], 'id': ''}}\n"
     ]
    }
   ],
   "source": [
    "print(ocr_dict)"
   ]
  },
  {
   "cell_type": "code",
   "execution_count": 27,
   "metadata": {},
   "outputs": [
    {
     "name": "stdout",
     "output_type": "stream",
     "text": [
      "{'BUNDESREPUBLIK DEUTSCHLAND': {'cordinates': [43, 26, 761, 64]}, \"FEDERAL REPUBLIC OF GERMANY / REPUBLIQUE FEDERALE D'ALLEMAGNE\": {'cordinates': [51, 58, 763, 84]}, 'LGL8WVK3F': {'cordinates': [894, 42, 1200, 86]}, 'PERSONALAUSWEIS': {'cordinates': [45, 83, 353, 112]}, \"IDENTITY CARD / CARTE D'IDENTITE\": {'cordinates': [49, 113, 388, 134]}, 'Name/Surname/Nom': {'cordinates': [543, 108, 737, 128]}, 'SCHULZ': {'cordinates': [551, 168, 696, 204]}, 'Vornamen/Given names/Prénoms': {'cordinates': [543, 244, 850, 266]}, 'CARSTEN MARCUS GEROLD': {'cordinates': [550, 277, 1066, 315]}, 'Geburtstag/Da of birth/': {'cordinates': [544, 340, 771, 361]}, 'Staatsangehörigkeit/Nationality': {'cordinates': [824, 341, 1119, 365]}, 'Date de naissance': {'cordinates': [542, 358, 710, 377]}, 'Nationalité': {'cordinates': [821, 359, 921, 379]}, '21.02.1992 DEUTSCH': {'cordinates': [549, 390, 1002, 428]}, 'Geburtsort/Place of birth/Lieu de naissance': {'cordinates': [540, 453, 938, 474]}, 'SCHWEINFURT': {'cordinates': [548, 485, 812, 522]}, 'Gültig bis/Date of expiry/': {'cordinates': [539, 549, 767, 571]}, 'Date d expiration': {'cordinates': [539, 567, 696, 588]}, '599350': {'cordinates': [937, 563, 1157, 611]}, '13.04.2020': {'cordinates': [549, 593, 790, 631]}, 'Unterschrift der Inhaberin/des Inhabers': {'cordinates': [537, 640, 898, 660]}, 'Signature of bearer . Signature de la titulaire/du titulaire': {'cordinates': [537, 657, 1050, 680]}, 'Schulz Carsten': {'cordinates': [535, 693, 1197, 798]}}\n"
     ]
    }
   ],
   "source": [
    "print(ocr_dict)"
   ]
  },
  {
   "cell_type": "code",
   "execution_count": 40,
   "metadata": {},
   "outputs": [],
   "source": [
    "ocr_dict['LGL8WVK3F']['id'] = 'Card_No.'\n",
    "ocr_dict['CARSTEN']['id'] = 'Holder_Name'\n",
    "ocr_dict['MARCUS']['id'] = 'Holder_Name'\n",
    "ocr_dict['GEROLD']['id'] = 'Holder_Name'\n",
    "ocr_dict['SCHULZ']['id'] = 'Holder_Surame'\n",
    "ocr_dict['21.02.1992']['id'] = 'Holder_DOB'\n",
    "ocr_dict['DEUTSCH']['id'] = 'Holder_Nationality'\n",
    "\n",
    "\n",
    "\n",
    "\n"
   ]
  },
  {
   "cell_type": "code",
   "execution_count": 1,
   "metadata": {},
   "outputs": [
    {
     "ename": "NameError",
     "evalue": "name 'ocr_dict' is not defined",
     "output_type": "error",
     "traceback": [
      "\u001b[0;31m---------------------------------------------------------------------------\u001b[0m",
      "\u001b[0;31mNameError\u001b[0m                                 Traceback (most recent call last)",
      "\u001b[1;32m/home/ubuntu/kshatra/OCR/id_card/aws.ipynb Cell 8\u001b[0m in \u001b[0;36m<cell line: 1>\u001b[0;34m()\u001b[0m\n\u001b[0;32m----> <a href='vscode-notebook-cell:/home/ubuntu/kshatra/OCR/id_card/aws.ipynb#ch0000007?line=0'>1</a>\u001b[0m ocr_dict\n",
      "\u001b[0;31mNameError\u001b[0m: name 'ocr_dict' is not defined"
     ]
    }
   ],
   "source": [
    "ocr_dict"
   ]
  },
  {
   "cell_type": "code",
   "execution_count": 17,
   "metadata": {},
   "outputs": [],
   "source": [
    "from googletrans import Translator, constants\n",
    "translator = Translator()\n"
   ]
  },
  {
   "cell_type": "code",
   "execution_count": 34,
   "metadata": {},
   "outputs": [
    {
     "name": "stdout",
     "output_type": "stream",
     "text": [
      "------------- Print Form detected text ------------------------------\n",
      "Key: Adi / Given Name(s), Value: Angel Nur\n",
      "Key: Cinsiveti / Gender, Value: K/F\n",
      "Key: Valid Date / Valid Undil, Value: 27.07.2024\n",
      "Key: TC Kimlik No / Identity No, Value: 82345678902\n",
      "Key: Dogum Tarihi / Date of Birth, Value: 29.05.1993\n",
      "Key: Uyrugu) Nationality, Value: TC/TUR\n",
      "Key: Sert No / Document No, Value: Tsa 12, 4567\n",
      "Key: Seyadi / Surname, Value: Türkoglu\n",
      "Key: Imzast / Signature, Value: coats\n"
     ]
    }
   ],
   "source": [
    "FormdocumentName = file_name\n",
    "key_list =[]\n",
    "ocr_form_dict = {}\n",
    "\n",
    "# #2. FORM detection from documents:\n",
    "response = textractmodule.analyze_document(\n",
    "    Document={\n",
    "        'S3Object': {\n",
    "            'Bucket': s3BucketName,\n",
    "            'Name': FormdocumentName\n",
    "        }\n",
    "    },\n",
    "    FeatureTypes=[\"FORMS\"])\n",
    "doc = Document(response)\n",
    "\n",
    "print ('------------- Print Form detected text ------------------------------')\n",
    "for page in doc.pages:\n",
    "    for field in page.form.fields:\n",
    "        key = translator.translate(str(field.key))\n",
    "        value = translator.translate(str(field.value))\n",
    "        #print(key)\n",
    "        key_list = key.text.split(' ')\n",
    "        #print(key_list)\n",
    "        print(\"Key: {}, Value: {}\".format(key.text, value.text))\n",
    "\n",
    "        \n"
   ]
  },
  {
   "cell_type": "code",
   "execution_count": null,
   "metadata": {},
   "outputs": [],
   "source": []
  },
  {
   "cell_type": "code",
   "execution_count": null,
   "metadata": {},
   "outputs": [],
   "source": []
  },
  {
   "cell_type": "code",
   "execution_count": null,
   "metadata": {},
   "outputs": [],
   "source": []
  },
  {
   "cell_type": "code",
   "execution_count": null,
   "metadata": {},
   "outputs": [],
   "source": []
  },
  {
   "cell_type": "code",
   "execution_count": null,
   "metadata": {},
   "outputs": [],
   "source": []
  },
  {
   "cell_type": "code",
   "execution_count": null,
   "metadata": {},
   "outputs": [],
   "source": []
  },
  {
   "cell_type": "code",
   "execution_count": null,
   "metadata": {},
   "outputs": [],
   "source": []
  },
  {
   "cell_type": "code",
   "execution_count": null,
   "metadata": {},
   "outputs": [],
   "source": []
  },
  {
   "cell_type": "code",
   "execution_count": null,
   "metadata": {},
   "outputs": [],
   "source": []
  },
  {
   "cell_type": "code",
   "execution_count": null,
   "metadata": {},
   "outputs": [],
   "source": []
  },
  {
   "cell_type": "code",
   "execution_count": null,
   "metadata": {},
   "outputs": [],
   "source": []
  },
  {
   "cell_type": "code",
   "execution_count": null,
   "metadata": {},
   "outputs": [],
   "source": []
  },
  {
   "cell_type": "code",
   "execution_count": 13,
   "metadata": {},
   "outputs": [
    {
     "name": "stdout",
     "output_type": "stream",
     "text": [
      "{'BUNDESREPUBLIK DEUTSCHLAND': [0.20680150389671326, 0.05121687054634094, 0.6374364495277405, 0.09609459340572357], 'DE': [0.09678295999765396, 0.09623776376247406, 0.1340264044702053, 0.1310046873986721], \"FEDERAL REPUNLIC OF GERMANY REPUBLIQUE FEDERALE l'ALLEMAGNE\": [0.2056654840707779, 0.09060046821832657, 0.636934831738472, 0.11990129575133324], 'LGTG24FYC': [0.701932430267334, 0.06081405654549599, 0.9336593002080917, 0.11478438973426819], 'PERSONALAUSWEIS': [0.20275548100471497, 0.11951272934675217, 0.44687923789024353, 0.15736624971032143]}\n"
     ]
    }
   ],
   "source": [
    "import itertools \n",
    "N = 5\n",
    "out = dict(itertools.islice(ocr_dict.items(), N)) \n",
    "print(out)"
   ]
  },
  {
   "cell_type": "code",
   "execution_count": 14,
   "metadata": {},
   "outputs": [
    {
     "name": "stdout",
     "output_type": "stream",
     "text": [
      "BUNDESREPUBLIK DEUTSCHLAND\n",
      "DE\n",
      "FEDERAL REPUNLIC OF GERMANY REPUBLIQUE FEDERALE l'ALLEMAGNE\n",
      "LGTG24FYC\n",
      "PERSONALAUSWEIS\n"
     ]
    }
   ],
   "source": [
    "ocr_list = []\n",
    "\n",
    "for ocr, cordinates in out.items():\n",
    "    print(ocr)\n",
    "    ocr_list.append(ocr)"
   ]
  },
  {
   "cell_type": "code",
   "execution_count": 15,
   "metadata": {},
   "outputs": [
    {
     "ename": "NameError",
     "evalue": "name 'country' is not defined",
     "output_type": "error",
     "traceback": [
      "\u001b[0;31m---------------------------------------------------------------------------\u001b[0m",
      "\u001b[0;31mNameError\u001b[0m                                 Traceback (most recent call last)",
      "\u001b[1;32m/home/ubuntu/kshatra/OCR/id_card/aws.ipynb Cell 10\u001b[0m in \u001b[0;36m<cell line: 28>\u001b[0;34m()\u001b[0m\n\u001b[1;32m     <a href='vscode-notebook-cell:/home/ubuntu/kshatra/OCR/id_card/aws.ipynb#ch0000021?line=24'>25</a>\u001b[0m         \u001b[39mbreak\u001b[39;00m\n\u001b[1;32m     <a href='vscode-notebook-cell:/home/ubuntu/kshatra/OCR/id_card/aws.ipynb#ch0000021?line=26'>27</a>\u001b[0m     \u001b[39m#BELGIEN\u001b[39;00m\n\u001b[0;32m---> <a href='vscode-notebook-cell:/home/ubuntu/kshatra/OCR/id_card/aws.ipynb#ch0000021?line=27'>28</a>\u001b[0m \u001b[39mprint\u001b[39m(country)\n\u001b[1;32m     <a href='vscode-notebook-cell:/home/ubuntu/kshatra/OCR/id_card/aws.ipynb#ch0000021?line=28'>29</a>\u001b[0m \u001b[39mprint\u001b[39m(status_cntry)\n",
      "\u001b[0;31mNameError\u001b[0m: name 'country' is not defined"
     ]
    }
   ],
   "source": [
    "\n",
    "\n",
    "status_cntry = \"Country not found.\"\n",
    "for i in range(len(ocr_list)):\n",
    "    if (ocr_list[i].lower()) == \"rzeczpospolita polska\":\n",
    "        country = \"Poland\"\n",
    "        status_cntry = \"Country found.\"\n",
    "        break\n",
    "\n",
    "    elif (ocr_list[i].lower()) ==\"united kingdom\":\n",
    "        country =\"England\"\n",
    "        status_cntry = \"Country found.\"\n",
    "        break\n",
    "\n",
    "    elif (ocr_list[i].lower()) ==\"republika slovenija\":\n",
    "        country = \"Slovenia\"\n",
    "        status_cntry = \"Country found.\"\n",
    "        break\n",
    "\n",
    "    elif (ocr_list[i].lower()) == \"türkiye cumhuríyetì kimlik karti\":\n",
    "        country = \"Turkey\"\n",
    "        status_cntry = \"Country found.\"\n",
    "        break\n",
    "    elif (ocr_list[i].lower()) == \"türkiye cumhuríyetì kimlik karti\":\n",
    "        country = \"Turkey\"\n",
    "        status_cntry = \"Country found.\"\n",
    "        break\n",
    "\n",
    "    #BELGIEN\n",
    "print(country)\n",
    "print(status_cntry)\n",
    "\n",
    "   "
   ]
  },
  {
   "cell_type": "code",
   "execution_count": null,
   "metadata": {},
   "outputs": [],
   "source": []
  },
  {
   "cell_type": "code",
   "execution_count": 21,
   "metadata": {},
   "outputs": [
    {
     "name": "stdout",
     "output_type": "stream",
     "text": [
      "------------- Print Form detected text ------------------------------\n",
      "Key: Gültig bis/Date of expiry/ Date d' expiration, Value: 01.08.2031\n",
      "Key: Geburtstag/Date of birth/ Date de naissance, Value: 12.08.1983\n",
      "Key: [a], Value: MUSTERMANN\n",
      "Key: [b], Value: Geburtsname/Name at birth/Nom de naissance\n"
     ]
    }
   ],
   "source": [
    "form_dict ={}\n",
    "# #2. FORM detection from documents:\n",
    "response = textractmodule.analyze_document(\n",
    "    Document={\n",
    "        'S3Object': {\n",
    "            'Bucket': s3BucketName,\n",
    "            'Name': FormdocumentName\n",
    "        }\n",
    "    },\n",
    "    FeatureTypes=[\"FORMS\"])\n",
    "doc = Document(response)\n",
    "\n",
    "print ('------------- Print Form detected text ------------------------------')\n",
    "for page in doc.pages:\n",
    "    for field in page.form.fields:\n",
    "        #print(field)\n",
    "        key = str(field.key)\n",
    "        value = str(field.value)\n",
    "        form_dict[key] =value\n",
    "        print(\"Key: {}, Value: {}\".format(field.key, field.value))\n"
   ]
  },
  {
   "cell_type": "code",
   "execution_count": 126,
   "metadata": {},
   "outputs": [],
   "source": [
    "country_dict[country] = form_dict"
   ]
  },
  {
   "cell_type": "code",
   "execution_count": 127,
   "metadata": {},
   "outputs": [
    {
     "data": {
      "text/plain": [
       "{'Slovenia': {'Drzavijanstvo/Nationality': 'SI',\n",
       "  'Datum rojstva/Date of birth': '28.06.1985',\n",
       "  'Datum izdaje/Date of issue': '28.03.2022',\n",
       "  'Veljavnost do/Date of expiry': '28.03.2032',\n",
       "  'Rojstni kraj/Place of birth': 'SI - LJUBLJANA',\n",
       "  'Serijska Stevilko/Serial number': 'IE9876543',\n",
       "  'Prüimek/Surname': 'VZOREC',\n",
       "  'Spol/Sex': 'Z/F',\n",
       "  'EMSO/PIN': '2806985505145'},\n",
       " 'England': {'HEIGHT': '180',\n",
       "  'ISSUING': '13.08.2016',\n",
       "  'SEX': 'M',\n",
       "  'EXPIRY': '13.08.2026',\n",
       "  'GIVEN NAME': 'JOHN',\n",
       "  'PLACE AND DATE OF BIRTH': '25-05-1985',\n",
       "  'NATIONALITY': 'BRITISH CITIZEN',\n",
       "  'SURNAME': 'CLAY',\n",
       "  \"HOLDER'S SIGNATURE\": '175521'}}"
      ]
     },
     "execution_count": 127,
     "metadata": {},
     "output_type": "execute_result"
    }
   ],
   "source": [
    "country_dict"
   ]
  },
  {
   "cell_type": "code",
   "execution_count": null,
   "metadata": {},
   "outputs": [],
   "source": []
  },
  {
   "cell_type": "code",
   "execution_count": null,
   "metadata": {},
   "outputs": [],
   "source": []
  },
  {
   "cell_type": "code",
   "execution_count": null,
   "metadata": {},
   "outputs": [],
   "source": []
  }
 ],
 "metadata": {
  "kernelspec": {
   "display_name": "Python 3.10.4 ('kenv')",
   "language": "python",
   "name": "python3"
  },
  "language_info": {
   "codemirror_mode": {
    "name": "ipython",
    "version": 3
   },
   "file_extension": ".py",
   "mimetype": "text/x-python",
   "name": "python",
   "nbconvert_exporter": "python",
   "pygments_lexer": "ipython3",
   "version": "3.10.4"
  },
  "orig_nbformat": 4,
  "vscode": {
   "interpreter": {
    "hash": "675f33c4e9571de98fc6278933ab6a04fc7353f622fb2afd99ecefe31f8e8f1c"
   }
  }
 },
 "nbformat": 4,
 "nbformat_minor": 2
}
