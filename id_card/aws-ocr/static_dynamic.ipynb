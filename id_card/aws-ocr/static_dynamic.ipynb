{
 "cells": [
  {
   "cell_type": "code",
   "execution_count": 106,
   "metadata": {},
   "outputs": [],
   "source": [
    "import boto3\n",
    "from trp import Document\n",
    "import cv2\n",
    "country_dict = {} \n",
    "\n",
    "from googletrans import Translator, constants\n",
    "translator = Translator()\n",
    "\n",
    "from fuzzywuzzy import fuzz"
   ]
  },
  {
   "cell_type": "code",
   "execution_count": 107,
   "metadata": {},
   "outputs": [],
   "source": [
    "reference = ['türkiye cumhuríyeti kimlík karti', 'republic of turkey identity card', 'tc kimlik no / identity no', 'seyadi / surname', '82345678902', 'türkoglu', 'adi / given name(s)', 'melek nur', 'dogum tarihi / date of birth', 'cinsiveti / gender', '29.05.1993', 'k/f', 's123456tc', '2ca12z34567', 'seri no / document no', 'uyrugu) nationality', 'tc/tur', 'geçerlilik tarifi / valid until', 'imzasi / signature', '27.07.2024', 'rule']"
   ]
  },
  {
   "cell_type": "code",
   "execution_count": 108,
   "metadata": {},
   "outputs": [
    {
     "name": "stdout",
     "output_type": "stream",
     "text": [
      "['türkiye cumhuriyeti kimlik karti', 'republic of turkey identity card', 'tc kimlik no tr identity no', '12571302742', 'soyadi / surname', 'genç', 'adr / given name(s)', 'canan', 'dogum tarihi / date of birth cinsiyeti/gender', '02.11.1997', 'k/f', 'seri no / document no', 'uyrugu/nationality', 'a17c95454', 't.c./tur', 'son geperlilik / valid until imzasi/signature', '23.01.2029', 'you']\n"
     ]
    }
   ],
   "source": [
    "\n",
    "s3BucketName = \"kshatra-ai-jaydev\"\n",
    "file_path = \"/home/ubuntu/kshatra/OCR/id_card/id_card_imgs/turkey3.jpg\"\n",
    "list = file_path.split('/')\n",
    "file_name = list[-1]\n",
    "s3 = boto3.client('s3')\n",
    "s3.upload_file(file_path ,s3BucketName, file_name)\n",
    "\n",
    "PlaindocumentName = file_name\n",
    "textractmodule = boto3.client('textract')\n",
    "response = textractmodule.detect_document_text(\n",
    "    Document={\n",
    "        'S3Object': {\n",
    "            'Bucket': s3BucketName,\n",
    "            'Name': PlaindocumentName\n",
    "        }\n",
    "    })\n",
    "listt =[]\n",
    "for item in response[\"Blocks\"]:\n",
    "    if item[\"BlockType\"] == \"LINE\":\n",
    "        # print(str(item['Text']))\n",
    "        # key = translator.translate(str(item['Text']))\n",
    "        # ket_txt = key.text.lower()\n",
    "        # listt.append(ket_txt)\n",
    "\n",
    "        # print(ket_txt)\n",
    "        listt.append(str(item['Text']).lower())\n",
    "        # print (str(item['Text']))\n",
    "print(listt)"
   ]
  },
  {
   "cell_type": "code",
   "execution_count": 98,
   "metadata": {},
   "outputs": [],
   "source": [
    "new_value = ['türkiye cumhuriyeti kimlik karti', 'republic of turkey identity card', 'tc kimlik no tr identity no', '12571302742', 'soyadi / surname', 'genç', 'adr / given name(s)', 'canan', 'dogum tarihi / date of birth cinsiyeti/gender', '02.11.1997', 'k/f', 'seri no / document no', 'uyrugu/nationality', 'a17c95454', 't.c./tur', 'son geperlilik / valid until imzasi/signature', '23.01.2029', 'you']"
   ]
  },
  {
   "cell_type": "code",
   "execution_count": 105,
   "metadata": {},
   "outputs": [],
   "source": [
    "static = []\n",
    "dynamic = []\n",
    "\n",
    "for b in range (len(new_value)):\n",
    "    for c in range (len(reference)):\n",
    "        fuzz_value = fuzz.partial_ratio(new_value[b], reference[c])\n",
    "        # print(fuzz_value)\n",
    "        if fuzz_value >= 80:\n",
    "            static.append(new_value[b])"
   ]
  },
  {
   "cell_type": "code",
   "execution_count": 103,
   "metadata": {},
   "outputs": [],
   "source": [
    "dynamic = new_value\n",
    "for d in range (len(static)):\n",
    "    if static[d] in dynamic:\n",
    "        dynamic.remove(static[d])"
   ]
  },
  {
   "cell_type": "code",
   "execution_count": 104,
   "metadata": {},
   "outputs": [
    {
     "data": {
      "text/plain": [
       "['12571302742',\n",
       " 'genç',\n",
       " 'canan',\n",
       " '02.11.1997',\n",
       " 'a17c95454',\n",
       " '23.01.2029',\n",
       " 'you']"
      ]
     },
     "execution_count": 104,
     "metadata": {},
     "output_type": "execute_result"
    }
   ],
   "source": [
    "dynamic"
   ]
  },
  {
   "cell_type": "code",
   "execution_count": null,
   "metadata": {},
   "outputs": [],
   "source": []
  },
  {
   "cell_type": "code",
   "execution_count": null,
   "metadata": {},
   "outputs": [],
   "source": []
  },
  {
   "cell_type": "code",
   "execution_count": null,
   "metadata": {},
   "outputs": [],
   "source": []
  },
  {
   "cell_type": "code",
   "execution_count": null,
   "metadata": {},
   "outputs": [],
   "source": []
  },
  {
   "cell_type": "code",
   "execution_count": 111,
   "metadata": {},
   "outputs": [
    {
     "data": {
      "text/plain": [
       "<HumanName : [\n",
       "\ttitle: '' \n",
       "\tfirst: 'genç' \n",
       "\tmiddle: '' \n",
       "\tlast: 'canan' \n",
       "\tsuffix: ''\n",
       "\tnickname: ''\n",
       "]>"
      ]
     },
     "execution_count": 111,
     "metadata": {},
     "output_type": "execute_result"
    }
   ],
   "source": [
    "from nameparser import HumanName\n",
    "name = HumanName(\"genç canan\")\n",
    "name"
   ]
  },
  {
   "cell_type": "code",
   "execution_count": null,
   "metadata": {},
   "outputs": [],
   "source": []
  }
 ],
 "metadata": {
  "kernelspec": {
   "display_name": "Python 3.10.4 ('kenv')",
   "language": "python",
   "name": "python3"
  },
  "language_info": {
   "codemirror_mode": {
    "name": "ipython",
    "version": 3
   },
   "file_extension": ".py",
   "mimetype": "text/x-python",
   "name": "python",
   "nbconvert_exporter": "python",
   "pygments_lexer": "ipython3",
   "version": "3.10.4"
  },
  "orig_nbformat": 4,
  "vscode": {
   "interpreter": {
    "hash": "675f33c4e9571de98fc6278933ab6a04fc7353f622fb2afd99ecefe31f8e8f1c"
   }
  }
 },
 "nbformat": 4,
 "nbformat_minor": 2
}
