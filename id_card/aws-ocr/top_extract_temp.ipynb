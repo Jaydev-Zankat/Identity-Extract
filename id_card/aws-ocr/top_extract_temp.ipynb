{
 "cells": [
  {
   "cell_type": "code",
   "execution_count": 13,
   "metadata": {},
   "outputs": [],
   "source": [
    "import boto3\n",
    "from trp import Document\n",
    "import cv2\n",
    "\n",
    "from googletrans import Translator, constants\n",
    "translator = Translator()"
   ]
  },
  {
   "cell_type": "code",
   "execution_count": 14,
   "metadata": {},
   "outputs": [],
   "source": [
    "card_identification = {'republic of croatia' : {'country':'Croatia',\n",
    "                                            'Types_of_card':['identity card','driving licence']},\n",
    "                    'belgium' : {'country':'Belgium',\n",
    "                                            'Types_of_card':['identity card','driving licence']}\n",
    "                                            \n",
    "                                            }"
   ]
  },
  {
   "cell_type": "code",
   "execution_count": 22,
   "metadata": {},
   "outputs": [],
   "source": [
    "# S3 Bucket Data\n",
    "def extract_top(file_path,s3BucketName):\n",
    "    # s3BucketName = \"kshatra-ai-jaydev\"\n",
    "    # file_path = \"./id_card_imgs/croatia3.jpeg\"\n",
    "    img = cv2.imread(file_path)\n",
    "    img = cv2.resize(img, (1260, 820))\n",
    "    list = file_path.split('/')\n",
    "    cv2.imwrite(file_path, img)\n",
    "    file_name = list[-1]\n",
    "\n",
    "\n",
    "    s3 = boto3.client('s3')\n",
    "    s3.upload_file(file_path ,s3BucketName, file_name)\n",
    "    print(\".....DONE -UPLOADING.......\")\n",
    "    FormdocumentName = file_name\n",
    "    PlaindocumentName = file_name\n",
    "    # Amazon Textract client\n",
    "    textractmodule = boto3.client('textract')\n",
    "    top_list = []\n",
    "    #1. PLAINTEXT detection from documents:\n",
    "    response = textractmodule.detect_document_text(Document={'S3Object': {'Bucket': s3BucketName,'Name': PlaindocumentName}})\n",
    "\n",
    "    print ('------------- Print Plaintext detected text ------------------------------')\n",
    "    i = 0\n",
    "    for item in response[\"Blocks\"]:\n",
    "        if item[\"BlockType\"] == \"LINE\":\n",
    "            i = i+1\n",
    "            if i < 10:\n",
    "                #print ('\\033[92m'+str(item['Text'])+'\\033[92m')\n",
    "                key = translator.translate(str(item['Text']))\n",
    "                ket_txt = key.text.lower()\n",
    "                top_list.append(ket_txt)\n",
    "                print(\"abc\")           \n",
    "    return top_list"
   ]
  },
  {
   "cell_type": "code",
   "execution_count": 25,
   "metadata": {},
   "outputs": [],
   "source": [
    "def identify_country(card_identification,file_path,s3BucketName):\n",
    "    top_list = extract_top(file_path,s3BucketName)\n",
    "    for a in range (len(top_list)):\n",
    "        if top_list[a] in card_identification:\n",
    "            cntry =  card_identification[top_list[a]]['country']\n",
    "            types_of_card =  card_identification[top_list[a]]['Types_of_card']\n",
    "            # print(\"Country is\", cntry)\n",
    "            break         \n",
    "        else:\n",
    "            print(\"Country does not exist in dict.\")\n",
    "    return cntry, types_of_card, top_list\n",
    "\n",
    "\n",
    "\n",
    "def identify_card(card_identification, file_path,s3BucketName):\n",
    "    country, card_types, top_list= identify_country(card_identification, file_path, s3BucketName)\n",
    "\n",
    "    for b in range (len(top_list)):\n",
    "        if top_list[b] in card_types:\n",
    "            card =  top_list[b]\n",
    "            return country,card \n",
    "            break       \n",
    "        \n",
    "    print(\"card type does not exist in dict.\")"
   ]
  },
  {
   "cell_type": "code",
   "execution_count": 26,
   "metadata": {},
   "outputs": [
    {
     "name": "stdout",
     "output_type": "stream",
     "text": [
      ".....DONE -UPLOADING.......\n",
      "------------- Print Plaintext detected text ------------------------------\n",
      "abc\n",
      "abc\n",
      "abc\n",
      "abc\n",
      "abc\n",
      "abc\n",
      "abc\n",
      "abc\n",
      "abc\n"
     ]
    },
    {
     "data": {
      "text/plain": [
       "('Croatia', 'identity card')"
      ]
     },
     "execution_count": 26,
     "metadata": {},
     "output_type": "execute_result"
    }
   ],
   "source": [
    "identify_card(card_identification, file_path = \"./id_card_imgs/croatia3.jpeg\", s3BucketName = \"kshatra-ai-jaydev\")"
   ]
  },
  {
   "cell_type": "code",
   "execution_count": null,
   "metadata": {},
   "outputs": [],
   "source": []
  },
  {
   "cell_type": "code",
   "execution_count": null,
   "metadata": {},
   "outputs": [],
   "source": []
  },
  {
   "cell_type": "code",
   "execution_count": 11,
   "metadata": {},
   "outputs": [],
   "source": []
  },
  {
   "cell_type": "code",
   "execution_count": null,
   "metadata": {},
   "outputs": [],
   "source": []
  }
 ],
 "metadata": {
  "kernelspec": {
   "display_name": "Python 3.10.4 ('kenv')",
   "language": "python",
   "name": "python3"
  },
  "language_info": {
   "codemirror_mode": {
    "name": "ipython",
    "version": 3
   },
   "file_extension": ".py",
   "mimetype": "text/x-python",
   "name": "python",
   "nbconvert_exporter": "python",
   "pygments_lexer": "ipython3",
   "version": "3.10.4"
  },
  "orig_nbformat": 4,
  "vscode": {
   "interpreter": {
    "hash": "675f33c4e9571de98fc6278933ab6a04fc7353f622fb2afd99ecefe31f8e8f1c"
   }
  }
 },
 "nbformat": 4,
 "nbformat_minor": 2
}
