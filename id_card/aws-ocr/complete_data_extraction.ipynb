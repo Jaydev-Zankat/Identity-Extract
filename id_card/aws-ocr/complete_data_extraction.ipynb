{
 "cells": [
  {
   "cell_type": "code",
   "execution_count": 231,
   "metadata": {},
   "outputs": [],
   "source": [
    "import boto3\n",
    "from trp import Document\n",
    "import cv2\n",
    "country_dict = {} \n",
    "\n",
    "from googletrans import Translator, constants\n",
    "translator = Translator()\n",
    "\n",
    "from fuzzywuzzy import fuzz"
   ]
  },
  {
   "cell_type": "code",
   "execution_count": 232,
   "metadata": {},
   "outputs": [],
   "source": [
    "card_identification = {'croatia' : {'country':'Croatia',\n",
    "                                            'Types_of_card':['identity card','driving licence']},\n",
    "                    'france' : {'country':'France',\n",
    "                                            'Types_of_card':['identity card','driving licence']},\n",
    "                    'belgium' : {'country':'Belgium',\n",
    "                                            'Types_of_card':['identity card','driving licence']},\n",
    "                    'germany' : {'country':'Germany',\n",
    "                                            'Types_of_card':['identity card','driving licence']},\n",
    "                    'espana' : {'country':'Spain',\n",
    "                                            'Types_of_card':['identity card','driving licence']},\n",
    "                    'poland' : {'country':'Poland',\n",
    "                                            'Types_of_card':['identity card','driving licence']},\n",
    "                    'romania' : {'country':'Romania',\n",
    "                                            'Types_of_card':['identity card','driving licence']},\n",
    "                    'slovenia' : {'country':'Slovenia',\n",
    "                                            'Types_of_card':['identity card','driving licence']},\n",
    "                    'turkey' : {'country':'Turkey',\n",
    "                                            'Types_of_card':['identity card','driving licence']},\n",
    "                    'india' : {'country':'India',\n",
    "                                            'Types_of_card':['adhar','driving licence', 'pan card']}}"
   ]
  },
  {
   "cell_type": "code",
   "execution_count": 233,
   "metadata": {},
   "outputs": [],
   "source": [
    "# S3 Bucket Data\n",
    "def extract_top(file_path,s3BucketName):\n",
    "    # s3BucketName = \"kshatra-ai-jaydev\"\n",
    "    # file_path = \"./id_card_imgs/croatia3.jpeg\"\n",
    "    img = cv2.imread(file_path)\n",
    "    img = cv2.resize(img, (1260, 820))\n",
    "    list = file_path.split('/')\n",
    "    cv2.imwrite(file_path, img)\n",
    "    file_name = list[-1]\n",
    "\n",
    "\n",
    "    s3 = boto3.client('s3')\n",
    "    s3.upload_file(file_path ,s3BucketName, file_name)\n",
    "    print(\".....DONE -UPLOADING.......\")\n",
    "    FormdocumentName = file_name\n",
    "    PlaindocumentName = file_name\n",
    "    # Amazon Textract client\n",
    "    textractmodule = boto3.client('textract')\n",
    "    top_list = []\n",
    "    top_list_eng = []\n",
    "    #1. PLAINTEXT detection from documents:\n",
    "    response = textractmodule.detect_document_text(Document={'S3Object': {'Bucket': s3BucketName,'Name': PlaindocumentName}})\n",
    "\n",
    "    print ('------------- Print Plaintext detected text ------------------------------')\n",
    "    i = 0\n",
    "    for item in response[\"Blocks\"]:\n",
    "        if item[\"BlockType\"] == \"WORD\":\n",
    "            top_list.append(str(item['Text']).lower())\n",
    "            key = translator.translate(str(item['Text']))\n",
    "            ket_txt = key.text.lower()\n",
    "            top_list_eng.append(ket_txt)\n",
    "    # print(top_list)\n",
    "    # print(top_list_eng)\n",
    "    return top_list,top_list_eng"
   ]
  },
  {
   "cell_type": "code",
   "execution_count": 242,
   "metadata": {},
   "outputs": [
    {
     "name": "stdout",
     "output_type": "stream",
     "text": [
      ".....DONE -UPLOADING.......\n",
      "------------- Print Plaintext detected text ------------------------------\n"
     ]
    }
   ],
   "source": [
    "top_list, top_list_eng = extract_top( file_path = \"./../id_card_imgs/ukrain3.jpeg\", s3BucketName = \"kshatra-ai-jaydev\")"
   ]
  },
  {
   "cell_type": "code",
   "execution_count": 235,
   "metadata": {},
   "outputs": [],
   "source": [
    "def identify_country(card_identification, top_list_eng):\n",
    "    max_fuzzy = 0\n",
    "    cntry = \"Not Found.\"\n",
    "    a = 0\n",
    "    for kkeeyy in card_identification:\n",
    "        for a in range (15):\n",
    "            fuzz_value = fuzz.ratio(top_list_eng[a], kkeeyy)\n",
    "            # print(top_list_eng[a],kkeeyy)\n",
    "            # print(fuzz_value)\n",
    "            if fuzz_value > max_fuzzy:\n",
    "                if fuzz_value > 50:\n",
    "                    max_fuzzy = fuzz_value\n",
    "                    cntry = kkeeyy\n",
    "            types_of_card =  card_identification[kkeeyy]['Types_of_card']\n",
    "            \n",
    "    print(max_fuzzy)\n",
    "    return cntry, types_of_card ,top_list_eng"
   ]
  },
  {
   "cell_type": "code",
   "execution_count": 236,
   "metadata": {},
   "outputs": [],
   "source": [
    "# country, types_of_card = identify_country(card_identification, top_list_eng)"
   ]
  },
  {
   "cell_type": "code",
   "execution_count": 239,
   "metadata": {},
   "outputs": [],
   "source": [
    "def identify_card(card_identification, top_list_eng):\n",
    "    country, card_types, top_list_eng= identify_country(card_identification, top_list_eng)\n",
    "    # print(card_types)\n",
    "    max_fuzzy =0\n",
    "    card_type = \"Not Found.\"\n",
    "    for c in range (len(top_list_eng)):\n",
    "        for b in range(len(card_types)):\n",
    "            fuzz_value = fuzz.ratio(top_list_eng[c], card_types[b])\n",
    "            if fuzz_value > max_fuzzy:\n",
    "                if fuzz_value > 50:\n",
    "                    max_fuzzy = fuzz_value\n",
    "                    card_type = card_types[b]\n",
    "            \n",
    "    return country,card_type\n",
    "    # print(\"Card of card does not exist in dict.\")\n"
   ]
  },
  {
   "cell_type": "code",
   "execution_count": 240,
   "metadata": {},
   "outputs": [
    {
     "name": "stdout",
     "output_type": "stream",
     "text": [
      "62\n"
     ]
    }
   ],
   "source": [
    "country, card = identify_card(card_identification, top_list_eng)\n",
    "if country == \"Not Found.\":\n",
    "    print(\"country Not Found, add this card in Dataset.\")"
   ]
  },
  {
   "cell_type": "code",
   "execution_count": 241,
   "metadata": {},
   "outputs": [
    {
     "data": {
      "text/plain": [
       "('france', 'Not Found.')"
      ]
     },
     "execution_count": 241,
     "metadata": {},
     "output_type": "execute_result"
    }
   ],
   "source": [
    "country, card"
   ]
  },
  {
   "cell_type": "code",
   "execution_count": 227,
   "metadata": {},
   "outputs": [],
   "source": [
    "key_value = 'pakistan'\n",
    "country_name = 'Pakistan'\n",
    "new_card_type = 'identity card'\n",
    "card_type_list = []"
   ]
  },
  {
   "cell_type": "code",
   "execution_count": 228,
   "metadata": {},
   "outputs": [],
   "source": [
    "card_type_list.append(new_card_type)\n",
    "new_data = {key_value:{'country': country_name,'Types_of_card':card_type_list}}"
   ]
  },
  {
   "cell_type": "code",
   "execution_count": 229,
   "metadata": {},
   "outputs": [],
   "source": [
    "card_identification.update(new_data)\n"
   ]
  },
  {
   "cell_type": "code",
   "execution_count": 230,
   "metadata": {},
   "outputs": [
    {
     "data": {
      "text/plain": [
       "{'croatia': {'country': 'Croatia',\n",
       "  'Types_of_card': ['identity card', 'driving licence']},\n",
       " 'france': {'country': 'France',\n",
       "  'Types_of_card': ['identity card', 'driving licence']},\n",
       " 'belgium': {'country': 'Belgium',\n",
       "  'Types_of_card': ['identity card', 'driving licence']},\n",
       " 'germany': {'country': 'Germany',\n",
       "  'Types_of_card': ['identity card', 'driving licence']},\n",
       " 'espana': {'country': 'Spain',\n",
       "  'Types_of_card': ['identity card', 'driving licence']},\n",
       " 'poland': {'country': 'Poland',\n",
       "  'Types_of_card': ['identity card', 'driving licence']},\n",
       " 'romania': {'country': 'Romania',\n",
       "  'Types_of_card': ['identity card', 'driving licence']},\n",
       " 'slovenia': {'country': 'Slovenia',\n",
       "  'Types_of_card': ['identity card', 'driving licence']},\n",
       " 'turkey': {'country': 'Turkey',\n",
       "  'Types_of_card': ['identity card', 'driving licence']},\n",
       " 'india': {'country': 'India',\n",
       "  'Types_of_card': ['adhar card', 'driving licence', 'pan card']},\n",
       " 'pakistan': {'country': 'Pakistan', 'Types_of_card': ['identity card']}}"
      ]
     },
     "execution_count": 230,
     "metadata": {},
     "output_type": "execute_result"
    }
   ],
   "source": [
    "card_identification"
   ]
  },
  {
   "cell_type": "code",
   "execution_count": null,
   "metadata": {},
   "outputs": [],
   "source": []
  }
 ],
 "metadata": {
  "kernelspec": {
   "display_name": "Python 3.10.4 ('kenv')",
   "language": "python",
   "name": "python3"
  },
  "language_info": {
   "codemirror_mode": {
    "name": "ipython",
    "version": 3
   },
   "file_extension": ".py",
   "mimetype": "text/x-python",
   "name": "python",
   "nbconvert_exporter": "python",
   "pygments_lexer": "ipython3",
   "version": "3.10.4"
  },
  "orig_nbformat": 4,
  "vscode": {
   "interpreter": {
    "hash": "675f33c4e9571de98fc6278933ab6a04fc7353f622fb2afd99ecefe31f8e8f1c"
   }
  }
 },
 "nbformat": 4,
 "nbformat_minor": 2
}
