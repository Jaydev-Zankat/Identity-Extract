{
 "cells": [
  {
   "cell_type": "code",
   "execution_count": 1,
   "metadata": {},
   "outputs": [],
   "source": [
    "import cv2\n",
    "import numpy as np"
   ]
  },
  {
   "cell_type": "code",
   "execution_count": 2,
   "metadata": {},
   "outputs": [
    {
     "name": "stderr",
     "output_type": "stream",
     "text": [
      "qt.qpa.plugin: Could not find the Qt platform plugin \"wayland\" in \"/home/ubuntu/.local/lib/python3.10/site-packages/cv2/qt/plugins\"\n"
     ]
    }
   ],
   "source": [
    "img = cv2.imread(\"pass.jpeg\")\n",
    "img = cv2.resize(img,(1800,900))\n",
    "filter = np.array([[-1, -1, -1], [-1, 9, -1], [-1, -1, -1]])\n",
    "imgg=cv2.filter2D(img,-1,filter)\n",
    "\n",
    "\n",
    "\n",
    "img = cv2.cvtColor(imgg, cv2.COLOR_BGR2GRAY)\n",
    "_,thresh= cv2.threshold(img, 170,255, cv2.THRESH_BINARY)\n",
    "# kernel = np.ones((7, 7), np.uint8)\n",
    "# img_e = cv2.erode(thresh, kernel)\n",
    "# kernel_d = np.ones((3,3), np.uint8)\n",
    "# img_d = cv2.dilate(thresh, kernel_d) \n",
    "\n",
    "\n",
    "#cv2.imshow(\"img_e\",img_e)\n",
    "#cv2.imshow(\"img_d\",img_d)\n",
    "cv2.imshow(\"imgg\", imgg)\n",
    "cv2.imshow(\"img\",thresh)\n",
    "cv2.imwrite(\"binary.jpg\",thresh)\n",
    "cv2.waitKey(0)\n",
    "cv2.destroyAllWindows()"
   ]
  },
  {
   "cell_type": "code",
   "execution_count": null,
   "metadata": {},
   "outputs": [],
   "source": []
  }
 ],
 "metadata": {
  "kernelspec": {
   "display_name": "Python 3.10.4 64-bit",
   "language": "python",
   "name": "python3"
  },
  "language_info": {
   "codemirror_mode": {
    "name": "ipython",
    "version": 3
   },
   "file_extension": ".py",
   "mimetype": "text/x-python",
   "name": "python",
   "nbconvert_exporter": "python",
   "pygments_lexer": "ipython3",
   "version": "3.10.4"
  },
  "orig_nbformat": 4,
  "vscode": {
   "interpreter": {
    "hash": "916dbcbb3f70747c44a77c7bcd40155683ae19c65e1c03b4aa3499c5328201f1"
   }
  }
 },
 "nbformat": 4,
 "nbformat_minor": 2
}
